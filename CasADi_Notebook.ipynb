{
  "nbformat": 4,
  "nbformat_minor": 0,
  "metadata": {
    "colab": {
      "provenance": [],
      "authorship_tag": "ABX9TyP8sU+1t2OJgOPtV5Mf7VHA",
      "include_colab_link": true
    },
    "kernelspec": {
      "name": "python3",
      "display_name": "Python 3"
    },
    "language_info": {
      "name": "python"
    }
  },
  "cells": [
    {
      "cell_type": "markdown",
      "metadata": {
        "id": "view-in-github",
        "colab_type": "text"
      },
      "source": [
        "<a href=\"https://colab.research.google.com/github/Praful22/CasadiPlayground/blob/main/CasADi_Notebook.ipynb\" target=\"_parent\"><img src=\"https://colab.research.google.com/assets/colab-badge.svg\" alt=\"Open In Colab\"/></a>"
      ]
    },
    {
      "cell_type": "markdown",
      "source": [
        "# CasADi Notebook: Example and Tutorials Developed to learn and work for Coordinated Control of Aerial Vehicle."
      ],
      "metadata": {
        "id": "cQOPtSp5lyUn"
      }
    },
    {
      "cell_type": "markdown",
      "source": [
        "CasADi is a software tool for numerical optimization focusing on optimal control problems.\n",
        "\n",
        "*   Creators: Joel Andersson, Joris Gillis, Moritz Diehl\n",
        "\n",
        "\n",
        "\n",
        "This document is a colloborative notebook in the form of bullet points, tutorials, and shareable-knowledge that Pratik Gyawali and Praful Sigdel noted during their work for Aerial Vehicle Coordinated Control."
      ],
      "metadata": {
        "id": "XucQewznlcdg"
      }
    },
    {
      "cell_type": "markdown",
      "source": [
        "After going throught this notebook, one should be able to formulate and manipulate expressions in CasADi’s symbolic framework, generate derivative information efficiently using algorithmic differentiation, to set up, solve and perform forward and adjoint sensitivity analysis for systems of ordinary differential equations (ODE) or differential-algebraic equations (DAE) as well as to formulate and solve nonlinear programs (NLP) problems and optimal control problems (OCP).[1]\n",
        "---\n",
        "1.   Programming Languages Availibility:\n",
        "*   Python (Best Documented) --> This is what we have chosen to work with.\n",
        "*   C++ (Limited Documentation)\n",
        "*   Matlab/Octave\n",
        "\n",
        "Par Performance among all three programming languages.\n",
        "\n",
        "2. What is CasADi and What it is not? [1]\n",
        "* Tool for Algorithmic Differentiation using syntax borrowed from Computer Algebra Systems (CAS).\n",
        "* Core functionalities of the Tool:\n",
        "  * Algorithmic Differentiation\n",
        "  * Support for Ordinary Differential Equations (ODE) / Differential-Algebraic Equations(DAE) integration\n",
        "  * Sensitivity Analysis\n",
        "  * Nonlinear programming\n",
        "  * Interfaces to other numerical tools.\n",
        "\n",
        "3. Usable only through the implementation or reimplementation of models in CasADi syntax.\n",
        "\n",
        "4. CasADi provides the user with a set of “building blocks” that can be used to implement general- purpose or specific-purpose OCP solvers efficiently with a modest programming effort. Not an \"optimal control problem solver\" that allows the user to enter an OCP and then gives the solution back.\n",
        "\n",
        "5. Installation Instructions: http://install.casadi.org/"
      ],
      "metadata": {
        "id": "Hj2j3y3R27bj"
      }
    },
    {
      "cell_type": "markdown",
      "source": [
        "# Symbolic Framework\n",
        "\n",
        "\n",
        "*   Self-contained symbolic framework that allows users to create symbolic experessions using everything-is-a-matrix syntax i.e. vectors are treated as n-by-1 matrices and scalars as 1-by-1 matrix.\n",
        "*   All matrices are sparse and use a **general sparse format - [compressed column storage (CCS)](https://en.wikipedia.org/wiki/Sparse_matrix#:~:text=Compressed%20sparse%20column%20(CSC%20or%20CCS))** - to store matrices.\n",
        "\n"
      ],
      "metadata": {
        "id": "KtBBiMaH3q9h"
      }
    },
    {
      "cell_type": "markdown",
      "source": [
        "Install Casadi!"
      ],
      "metadata": {
        "id": "udXc885RtONK"
      }
    },
    {
      "cell_type": "code",
      "source": [
        "pip install casadi"
      ],
      "metadata": {
        "colab": {
          "base_uri": "https://localhost:8080/"
        },
        "id": "oieZhFEADsRC",
        "outputId": "80a0fb5f-18a5-45a9-873f-3f2ab32e6122"
      },
      "execution_count": null,
      "outputs": [
        {
          "output_type": "stream",
          "name": "stdout",
          "text": [
            "Collecting casadi\n",
            "  Downloading casadi-3.6.3-cp310-none-manylinux2014_x86_64.whl (67.5 MB)\n",
            "\u001b[2K     \u001b[90m━━━━━━━━━━━━━━━━━━━━━━━━━━━━━━━━━━━━━━━━\u001b[0m \u001b[32m67.5/67.5 MB\u001b[0m \u001b[31m10.3 MB/s\u001b[0m eta \u001b[36m0:00:00\u001b[0m\n",
            "\u001b[?25hRequirement already satisfied: numpy in /usr/local/lib/python3.10/dist-packages (from casadi) (1.23.5)\n",
            "Installing collected packages: casadi\n",
            "Successfully installed casadi-3.6.3\n"
          ]
        }
      ]
    },
    {
      "cell_type": "markdown",
      "source": [
        "The SX data type is used to represent matrices whose elements consist of symbolic expressions made up by a sequence of unary and binary operations. One can import the symbols into the workspace as follows:"
      ],
      "metadata": {
        "id": "ZG2qL0X2LKqX"
      }
    },
    {
      "cell_type": "code",
      "source": [
        "from casadi import *"
      ],
      "metadata": {
        "id": "76Ul1BJxK3hT"
      },
      "execution_count": null,
      "outputs": []
    },
    {
      "cell_type": "markdown",
      "source": [
        "Create a variable *x* using below syntax :"
      ],
      "metadata": {
        "id": "x2KuS7p6tD1F"
      }
    },
    {
      "cell_type": "code",
      "source": [
        "x = MX.sym(\"x\")\n",
        "x"
      ],
      "metadata": {
        "colab": {
          "base_uri": "https://localhost:8080/"
        },
        "id": "k5YEWvyxiylR",
        "outputId": "8d4b1c9d-f009-4e11-e895-e696eb98a0d2"
      },
      "execution_count": null,
      "outputs": [
        {
          "output_type": "execute_result",
          "data": {
            "text/plain": [
              "MX(x)"
            ]
          },
          "metadata": {},
          "execution_count": 8
        }
      ]
    },
    {
      "cell_type": "markdown",
      "source": [
        "This creates a 1-by-1 matrix, i.e. a scalar containing a symbolic primitive called x. This is just the display name, not the identifier. Multiple variables can have the same name, but still be different. The identifier is the return value. You can also create vector- or matrix-valued symbolic variables by supplying additional arguments to SX.sym:"
      ],
      "metadata": {
        "id": "fpTiJxfl3PAa"
      }
    },
    {
      "cell_type": "code",
      "source": [
        "x = SX.sym('y',5)\n",
        "Z = SX.sym('Z',4,2)\n",
        "print(x)\n",
        "print(Z)"
      ],
      "metadata": {
        "colab": {
          "base_uri": "https://localhost:8080/"
        },
        "id": "dTrjzDuL3e4H",
        "outputId": "b5cd1420-b2f5-4f2f-9a96-8dc915e8fdfb"
      },
      "execution_count": 20,
      "outputs": [
        {
          "output_type": "stream",
          "name": "stdout",
          "text": [
            "[y_0, y_1, y_2, y_3, y_4]\n",
            "\n",
            "[[Z_0, Z_4], \n",
            " [Z_1, Z_5], \n",
            " [Z_2, Z_6], \n",
            " [Z_3, Z_7]]\n"
          ]
        }
      ]
    },
    {
      "cell_type": "markdown",
      "source": [
        "which creates a 5-by-1 matrix, i.e. a vector, and a 4-by-2 matrix with symbolic primitives, respectively."
      ],
      "metadata": {
        "id": "AJmJhjcM_nmX"
      }
    },
    {
      "cell_type": "markdown",
      "source": [
        "SX.sym is a (static) function which returns an SX instance. When variables have been declared, expressions can now be formed in an intuitive way:"
      ],
      "metadata": {
        "id": "MJK8LbYu_x0d"
      }
    },
    {
      "cell_type": "code",
      "source": [
        "x = SX.sym('x') # Declaration\n",
        "f = x**2 + 10 # Expression\n",
        "f = sqrt(f)\n",
        "print(f)"
      ],
      "metadata": {
        "colab": {
          "base_uri": "https://localhost:8080/"
        },
        "id": "KrlSKSp8_zCU",
        "outputId": "9ff0c5a9-abc0-4a9f-d338-47735624b09b"
      },
      "execution_count": 23,
      "outputs": [
        {
          "output_type": "stream",
          "name": "stdout",
          "text": [
            "sqrt((sq(x)+10))\n"
          ]
        }
      ]
    },
    {
      "cell_type": "code",
      "source": [],
      "metadata": {
        "id": "mWRodz5cFoxT"
      },
      "execution_count": null,
      "outputs": []
    }
  ]
}