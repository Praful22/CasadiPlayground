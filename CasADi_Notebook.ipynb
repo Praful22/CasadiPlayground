{
  "nbformat": 4,
  "nbformat_minor": 0,
  "metadata": {
    "colab": {
      "provenance": [],
      "authorship_tag": "ABX9TyNb/xNsuaSWG1y4MKRXGsEW",
      "include_colab_link": true
    },
    "kernelspec": {
      "name": "python3",
      "display_name": "Python 3"
    },
    "language_info": {
      "name": "python"
    }
  },
  "cells": [
    {
      "cell_type": "markdown",
      "metadata": {
        "id": "view-in-github",
        "colab_type": "text"
      },
      "source": [
        "<a href=\"https://colab.research.google.com/github/Praful22/CasadiPlayground/blob/main/CasADi_Notebook.ipynb\" target=\"_parent\"><img src=\"https://colab.research.google.com/assets/colab-badge.svg\" alt=\"Open In Colab\"/></a>"
      ]
    },
    {
      "cell_type": "markdown",
      "source": [
        "# CasADi Notebook: Example and Tutorials Developed to learn and work for Coordinated Control of Aerial Vehicle."
      ],
      "metadata": {
        "id": "cQOPtSp5lyUn"
      }
    },
    {
      "cell_type": "markdown",
      "source": [
        "CasADi is a software tool for numerical optimization focusing on optimal control problems.\n",
        "\n",
        "*   Creators: Joel Andersson, Joris Gillis, Moritz Diehl\n",
        "\n",
        "\n",
        "\n",
        "This document is a colloborative notebook in the form of bullet points, tutorials, and shareable-knowledge that Pratik Gyawali and Praful Sigdel noted during their work for Aerial Vehicle Coordinated Control."
      ],
      "metadata": {
        "id": "XucQewznlcdg"
      }
    },
    {
      "cell_type": "markdown",
      "source": [
        "After going throught this notebook, one should be able to formulate and manipulate expressions in CasADi’s symbolic framework, generate derivative information efficiently using algorithmic differentiation, to set up, solve and perform forward and adjoint sensitivity analysis for systems of ordinary differential equations (ODE) or differential-algebraic equations (DAE) as well as to formulate and solve nonlinear programs (NLP) problems and optimal control problems (OCP).[1]\n",
        "---\n",
        "1.   Programming Languages Availibility:\n",
        "*   Python (Best Documented) --> This is what we have chosen to work with.\n",
        "*   C++ (Limited Documentation)\n",
        "*   Matlab/Octave\n",
        "\n",
        "Par Performance among all three programming languages.\n",
        "\n",
        "2. What is CasADi and What it is not? [1]\n",
        "* Tool for Algorithmic Differentiation using syntax borrowed from Computer Algebra Systems (CAS).\n",
        "* Core functionalities of the Tool:\n",
        "  * Algorithmic Differentiation\n",
        "  * Support for Ordinary Differential Equations (ODE) / Differential-Algebraic Equations(DAE) integration\n",
        "  * Sensitivity Analysis\n",
        "  * Nonlinear programming\n",
        "  * Interfaces to other numerical tools.\n",
        "\n",
        "3. Usable only through the implementation or reimplementation of models in CasADi syntax.\n",
        "\n",
        "4. CasADi provides the user with a set of “building blocks” that can be used to implement general- purpose or specific-purpose OCP solvers efficiently with a modest programming effort. Not an \"optimal control problem solver\" that allows the user to enter an OCP and then gives the solution back.\n",
        "\n",
        "5. Installation Instructions: http://install.casadi.org/"
      ],
      "metadata": {
        "id": "Hj2j3y3R27bj"
      }
    },
    {
      "cell_type": "markdown",
      "source": [
        "# Symbolic Framework\n",
        "\n",
        "\n",
        "*   Self-contained symbolic framework that allows users to create symbolic experessions using everything-is-a-matrix syntax i.e. vectors are treated as n-by-1 matrices and scalars as 1-by-1 matrix.\n",
        "*   All matrices are sparse and use a **general sparse format - [compressed column storage (CCS)](https://en.wikipedia.org/wiki/Sparse_matrix#:~:text=Compressed%20sparse%20column%20(CSC%20or%20CCS))** - to store matrices.\n",
        "\n"
      ],
      "metadata": {
        "id": "KtBBiMaH3q9h"
      }
    },
    {
      "cell_type": "markdown",
      "source": [
        "Install Casadi!"
      ],
      "metadata": {
        "id": "udXc885RtONK"
      }
    },
    {
      "cell_type": "code",
      "source": [
        "pip install casadi"
      ],
      "metadata": {
        "colab": {
          "base_uri": "https://localhost:8080/"
        },
        "id": "oieZhFEADsRC",
        "outputId": "0fdbdf27-2d58-47ec-8d2d-4ab3d7cd475d"
      },
      "execution_count": 2,
      "outputs": [
        {
          "output_type": "stream",
          "name": "stdout",
          "text": [
            "Collecting casadi\n",
            "  Downloading casadi-3.6.3-cp310-none-manylinux2014_x86_64.whl (67.5 MB)\n",
            "\u001b[2K     \u001b[90m━━━━━━━━━━━━━━━━━━━━━━━━━━━━━━━━━━━━━━━━\u001b[0m \u001b[32m67.5/67.5 MB\u001b[0m \u001b[31m13.3 MB/s\u001b[0m eta \u001b[36m0:00:00\u001b[0m\n",
            "\u001b[?25hRequirement already satisfied: numpy in /usr/local/lib/python3.10/dist-packages (from casadi) (1.23.5)\n",
            "Installing collected packages: casadi\n",
            "Successfully installed casadi-3.6.3\n"
          ]
        }
      ]
    },
    {
      "cell_type": "markdown",
      "source": [
        "The SX data type is used to represent matrices whose elements consist of symbolic expressions made up by a sequence of unary and binary operations. One can import the symbols into the workspace as follows:"
      ],
      "metadata": {
        "id": "ZG2qL0X2LKqX"
      }
    },
    {
      "cell_type": "code",
      "source": [
        "from casadi import *"
      ],
      "metadata": {
        "id": "76Ul1BJxK3hT"
      },
      "execution_count": 3,
      "outputs": []
    },
    {
      "cell_type": "markdown",
      "source": [
        "Create a variable *x* using below syntax :"
      ],
      "metadata": {
        "id": "x2KuS7p6tD1F"
      }
    },
    {
      "cell_type": "code",
      "source": [
        "x = MX.sym(\"x\")\n",
        "x"
      ],
      "metadata": {
        "colab": {
          "base_uri": "https://localhost:8080/"
        },
        "id": "k5YEWvyxiylR",
        "outputId": "c168d89b-102c-409f-9813-7f65bdf99f83"
      },
      "execution_count": 4,
      "outputs": [
        {
          "output_type": "execute_result",
          "data": {
            "text/plain": [
              "MX(x)"
            ]
          },
          "metadata": {},
          "execution_count": 4
        }
      ]
    },
    {
      "cell_type": "markdown",
      "source": [
        "This creates a 1-by-1 matrix, i.e. a scalar containing a symbolic primitive called x. This is just the display name, not the identifier. Multiple variables can have the same name, but still be different. The identifier is the return value. You can also create vector- or matrix-valued symbolic variables by supplying additional arguments to SX.sym:"
      ],
      "metadata": {
        "id": "fpTiJxfl3PAa"
      }
    },
    {
      "cell_type": "code",
      "source": [
        "x = SX.sym('y',3)\n",
        "Z = SX.sym('Z',5,2)\n",
        "print(x)\n",
        "print(Z)"
      ],
      "metadata": {
        "colab": {
          "base_uri": "https://localhost:8080/"
        },
        "id": "dTrjzDuL3e4H",
        "outputId": "9208c90d-0703-4acb-fe7d-e46b0c936012"
      },
      "execution_count": 12,
      "outputs": [
        {
          "output_type": "stream",
          "name": "stdout",
          "text": [
            "[y_0, y_1, y_2]\n",
            "\n",
            "[[Z_0, Z_5], \n",
            " [Z_1, Z_6], \n",
            " [Z_2, Z_7], \n",
            " [Z_3, Z_8], \n",
            " [Z_4, Z_9]]\n"
          ]
        }
      ]
    },
    {
      "cell_type": "markdown",
      "source": [
        "which creates a 3-by-1 matrix, i.e. a vector, and a 5-by-2 matrix with symbolic primitives, respectively."
      ],
      "metadata": {
        "id": "AJmJhjcM_nmX"
      }
    },
    {
      "cell_type": "markdown",
      "source": [
        "SX.sym is a (static) function which returns an SX instance. When variables have been declared, expressions can now be formed in an intuitive way:"
      ],
      "metadata": {
        "id": "MJK8LbYu_x0d"
      }
    },
    {
      "cell_type": "code",
      "source": [
        "x = SX.sym('x') # Declaration\n",
        "f = x**3 + 10 # Expression\n",
        "f = sqrt(f)\n",
        "print(f)"
      ],
      "metadata": {
        "colab": {
          "base_uri": "https://localhost:8080/"
        },
        "id": "KrlSKSp8_zCU",
        "outputId": "7995c8d6-c985-4dda-d83b-095f55266e41"
      },
      "execution_count": 13,
      "outputs": [
        {
          "output_type": "stream",
          "name": "stdout",
          "text": [
            "sqrt(((x*sq(x))+10))\n"
          ]
        }
      ]
    },
    {
      "cell_type": "markdown",
      "source": [
        "Create constant SX instances without any symbolics primitives as follows:"
      ],
      "metadata": {
        "id": "FsuEbmgdnBSp"
      }
    },
    {
      "cell_type": "code",
      "source": [
        "A1 = SX.zeros(3,3)\n",
        "A2 = SX(4,5)\n",
        "A3 = SX.eye(4)\n",
        "print(A1, A2, A3)"
      ],
      "metadata": {
        "colab": {
          "base_uri": "https://localhost:8080/"
        },
        "id": "zN7CStiYnKU3",
        "outputId": "be801d97-c534-4802-e577-6b9e9a7cf707"
      },
      "execution_count": 14,
      "outputs": [
        {
          "output_type": "stream",
          "name": "stdout",
          "text": [
            "@1=0, \n",
            "[[@1, @1, @1], \n",
            " [@1, @1, @1], \n",
            " [@1, @1, @1]] \n",
            "[[00, 00, 00, 00, 00], \n",
            " [00, 00, 00, 00, 00], \n",
            " [00, 00, 00, 00, 00], \n",
            " [00, 00, 00, 00, 00]] @1=1, \n",
            "[[@1, 00, 00, 00], \n",
            " [00, @1, 00, 00], \n",
            " [00, 00, @1, 00], \n",
            " [00, 00, 00, @1]]\n"
          ]
        }
      ]
    },
    {
      "cell_type": "markdown",
      "source": [
        "The following list summarizes the most commonly used ways of constructing new SX expressions:\n",
        "*  SX.sym(name,n,m): Create an 𝑛-by-𝑚 symbolic primitive\n",
        "*  SX.zeros(n,m): Create an 𝑛-by-𝑚 dense matrix with all zeros\n",
        "*  SX(n,m): Create an 𝑛-by-𝑚 sparse matrix with all structural zeros\n",
        "*  SX.ones(n,m): Create an 𝑛-by-𝑚 dense matrix with all ones\n",
        "* SX.eye(n): Create an 𝑛-by-𝑛 diagonal matrix with ones on the diagonal and structural zeros elsewhere.\n",
        "* SX(scalar_type): Create a scalar (1-by-1 matrix) with value given by the argument. This method can be used explicitly, e.g. SX(9), or implicitly, e.g. 9 * SX.ones(2,2).\n",
        "* SX(matrix_type): Create a matrix given a numerical matrix given as a NumPy or SciPy matrix (in Python) or as a dense or sparse matrix (in MATLAB/Octave). In MATLAB/Octave e.g. SX([1,2,3,4]) for a row vector, SX([1;2;3;4]) for a column vector and SX([1,2;3,4]) for a 2-by-2 matrix. This method can be used explicitly or implicitly.\n",
        "* repmat(v,n,m): Repeat expression 𝑣 𝑛 times vertically and 𝑚 times horizontally. repmat(SX(3),2,1) will create a 2-by-1 matrix with all elements 3.\n",
        "* (Python only) SX(list): Create a column vector (𝑛-by-1 matrix) with the elements in the list, e.g. SX([1,2,3, 4]) (note the difference between Python lists and MATLAB/Octave horizontal concatenation, which both uses square bracket syntax)\n",
        "*(Python only) SX(list of list): Create a dense matrix with the elements in the lists, e.g. SX([[1,2],[3, 4]]) or a row vector (1-by-𝑛 matrix) using SX([[1,2,3,4]])."
      ],
      "metadata": {
        "id": "LkUu5v7-v1u-"
      }
    },
    {
      "cell_type": "markdown",
      "source": [
        "MX Symbolics:\n",
        "\n",
        "*\n",
        "*\n",
        "*\n",
        "*\n",
        "*\n",
        "\n"
      ],
      "metadata": {
        "id": "l_M-591Owz1v"
      }
    }
  ]
}