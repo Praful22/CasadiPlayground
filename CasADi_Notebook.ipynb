{
  "cells": [
    {
      "attachments": {},
      "cell_type": "markdown",
      "metadata": {
        "colab_type": "text",
        "id": "view-in-github"
      },
      "source": [
        "<a href=\"https://colab.research.google.com/github/Praful22/CasadiPlayground/blob/main/CasADi_Notebook.ipynb\" target=\"_parent\"><img src=\"https://colab.research.google.com/assets/colab-badge.svg\" alt=\"Open In Colab\"/></a>"
      ]
    },
    {
      "attachments": {},
      "cell_type": "markdown",
      "metadata": {
        "id": "cQOPtSp5lyUn"
      },
      "source": [
        "# CasADi Notebook: Example and Tutorials Developed to learn and work for Coordinated Control of Aerial Vehicle."
      ]
    },
    {
      "attachments": {},
      "cell_type": "markdown",
      "metadata": {
        "id": "XucQewznlcdg"
      },
      "source": [
        "CasADi is a software tool for numerical optimization focusing on optimal control problems.\n",
        "\n",
        "*   Creators: Joel Andersson, Joris Gillis, Moritz Diehl\n",
        "\n",
        "\n",
        "\n",
        "This document is a colloborative notebook in the form of bullet points, tutorials, and shareable-knowledge that Pratik Gyawali and Praful Sigdel noted during their work for Aerial Vehicle Coordinated Control."
      ]
    },
    {
      "attachments": {},
      "cell_type": "markdown",
      "metadata": {
        "id": "Hj2j3y3R27bj"
      },
      "source": [
        "After going throught this notebook, one should be able to formulate and manipulate expressions in CasADi’s symbolic framework, generate derivative information efficiently using algorithmic differentiation, to set up, solve and perform forward and adjoint sensitivity analysis for systems of ordinary differential equations (ODE) or differential-algebraic equations (DAE) as well as to formulate and solve nonlinear programs (NLP) problems and optimal control problems (OCP).[1]\n",
        "---\n",
        "1.   Programming Languages Availibility:\n",
        "*   Python (Best Documented) --> This is what we have chosen to work with.\n",
        "*   C++ (Limited Documentation)\n",
        "*   Matlab/Octave\n",
        "\n",
        "Par Performance among all three programming languages.\n",
        "\n",
        "2. What is CasADi and What it is not? [1]\n",
        "* Tool for Algorithmic Differentiation using syntax borrowed from Computer Algebra Systems (CAS).\n",
        "* Core functionalities of the Tool:\n",
        "  * Algorithmic Differentiation\n",
        "  * Support for Ordinary Differential Equations (ODE) / Differential-Algebraic Equations(DAE) integration\n",
        "  * Sensitivity Analysis\n",
        "  * Nonlinear programming\n",
        "  * Interfaces to other numerical tools.\n",
        "\n",
        "3. Usable only through the implementation or reimplementation of models in CasADi syntax.\n",
        "\n",
        "4. CasADi provides the user with a set of “building blocks” that can be used to implement general- purpose or specific-purpose OCP solvers efficiently with a modest programming effort. Not an \"optimal control problem solver\" that allows the user to enter an OCP and then gives the solution back.\n",
        "\n",
        "5. Installation Instructions: http://install.casadi.org/"
      ]
    },
    {
      "attachments": {},
      "cell_type": "markdown",
      "metadata": {
        "id": "KtBBiMaH3q9h"
      },
      "source": [
        "# Symbolic Framework\n",
        "\n",
        "\n",
        "*   Self-contained symbolic framework that allows users to create symbolic experessions using everything-is-a-matrix syntax i.e. vectors are treated as n-by-1 matrices and scalars as 1-by-1 matrix.\n",
        "*   All matrices are sparse and use a **general sparse format - [compressed column storage (CCS)](https://en.wikipedia.org/wiki/Sparse_matrix#:~:text=Compressed%20sparse%20column%20(CSC%20or%20CCS))** - to store matrices.\n",
        "\n"
      ]
    },
    {
      "attachments": {},
      "cell_type": "markdown",
      "metadata": {
        "id": "udXc885RtONK"
      },
      "source": [
        "Install Casadi!"
      ]
    },
    {
      "cell_type": "code",
      "execution_count": null,
      "metadata": {
        "colab": {
          "base_uri": "https://localhost:8080/"
        },
        "id": "oieZhFEADsRC",
        "outputId": "80a0fb5f-18a5-45a9-873f-3f2ab32e6122"
      },
      "outputs": [
        {
          "name": "stdout",
          "output_type": "stream",
          "text": [
            "Collecting casadi\n",
            "  Downloading casadi-3.6.3-cp310-none-manylinux2014_x86_64.whl (67.5 MB)\n",
            "\u001b[2K     \u001b[90m━━━━━━━━━━━━━━━━━━━━━━━━━━━━━━━━━━━━━━━━\u001b[0m \u001b[32m67.5/67.5 MB\u001b[0m \u001b[31m10.3 MB/s\u001b[0m eta \u001b[36m0:00:00\u001b[0m\n",
            "\u001b[?25hRequirement already satisfied: numpy in /usr/local/lib/python3.10/dist-packages (from casadi) (1.23.5)\n",
            "Installing collected packages: casadi\n",
            "Successfully installed casadi-3.6.3\n"
          ]
        }
      ],
      "source": [
        "pip install casadi"
      ]
    },
    {
      "attachments": {},
      "cell_type": "markdown",
      "metadata": {
        "id": "ZG2qL0X2LKqX"
      },
      "source": [
        "The SX data type is used to represent matrices whose elements consist of symbolic expressions made up by a sequence of unary and binary operations. One can import the symbols into the workspace as follows:"
      ]
    },
    {
      "cell_type": "code",
      "execution_count": 1,
      "metadata": {
        "id": "76Ul1BJxK3hT"
      },
      "outputs": [],
      "source": [
        "from casadi import *"
      ]
    },
    {
      "attachments": {},
      "cell_type": "markdown",
      "metadata": {
        "id": "x2KuS7p6tD1F"
      },
      "source": [
        "Create a variable *x* using below syntax :"
      ]
    },
    {
      "cell_type": "code",
      "execution_count": 3,
      "metadata": {
        "colab": {
          "base_uri": "https://localhost:8080/"
        },
        "id": "k5YEWvyxiylR",
        "outputId": "8d4b1c9d-f009-4e11-e895-e696eb98a0d2"
      },
      "outputs": [],
      "source": [
        "x = MX.sym(\"x\")"
      ]
    },
    {
      "attachments": {},
      "cell_type": "markdown",
      "metadata": {
        "id": "fpTiJxfl3PAa"
      },
      "source": [
        "This creates a 1-by-1 matrix, i.e. a scalar containing a symbolic primitive called x. This is just the display name, not the identifier. Multiple variables can have the same name, but still be different. The identifier is the return value. You can also create vector- or matrix-valued symbolic variables by supplying additional arguments to SX.sym:"
      ]
    },
    {
      "cell_type": "code",
      "execution_count": 4,
      "metadata": {
        "colab": {
          "base_uri": "https://localhost:8080/"
        },
        "id": "dTrjzDuL3e4H",
        "outputId": "b5cd1420-b2f5-4f2f-9a96-8dc915e8fdfb"
      },
      "outputs": [
        {
          "name": "stdout",
          "output_type": "stream",
          "text": [
            "[y_0, y_1, y_2, y_3, y_4]\n",
            "\n",
            "[[Z_0, Z_4], \n",
            " [Z_1, Z_5], \n",
            " [Z_2, Z_6], \n",
            " [Z_3, Z_7]]\n"
          ]
        }
      ],
      "source": [
        "x = SX.sym('y',5)\n",
        "Z = SX.sym('Z',4,2)\n",
        "print(x)\n",
        "print(Z)"
      ]
    },
    {
      "attachments": {},
      "cell_type": "markdown",
      "metadata": {
        "id": "AJmJhjcM_nmX"
      },
      "source": [
        "which creates a 5-by-1 matrix, i.e. a vector, and a 4-by-2 matrix with symbolic primitives, respectively."
      ]
    },
    {
      "attachments": {},
      "cell_type": "markdown",
      "metadata": {
        "id": "MJK8LbYu_x0d"
      },
      "source": [
        "SX.sym is a (static) function which returns an SX instance. When variables have been declared, expressions can now be formed in an intuitive way:"
      ]
    },
    {
      "cell_type": "code",
      "execution_count": 5,
      "metadata": {
        "colab": {
          "base_uri": "https://localhost:8080/"
        },
        "id": "KrlSKSp8_zCU",
        "outputId": "9ff0c5a9-abc0-4a9f-d338-47735624b09b"
      },
      "outputs": [
        {
          "name": "stdout",
          "output_type": "stream",
          "text": [
            "sqrt((sq(x)+10))\n"
          ]
        }
      ],
      "source": [
        "x = SX.sym('x') # Declaration\n",
        "f = x**2 + 10 # Expression\n",
        "f = sqrt(f)\n",
        "print(f)"
      ]
    },
    {
      "attachments": {},
      "cell_type": "markdown",
      "metadata": {},
      "source": [
        "## SX vs MX in a nutshell\n",
        "\n",
        "| Feature/Aspect        | SX (Symbolic Expression)                          | MX       (Matrix Expression)                                   |\n",
        "|-----------------------|------------------------------------------|---------------------------------------------|\n",
        "| Data Structure        | Matrix of symbolic scalars               | Directed Acyclic Graph of matrix operations |\n",
        "| Granularity           | Fine-grained, element-wise               | Coarse-grained, matrix-based                |\n",
        "| Suited For            | Element-wise operations                  | Matrix operations, sparse matrix operations |\n",
        "| Memory Use            | Efficient for small/moderate sizes       | More efficient for large symbolic expressions|\n",
        "| Speed                 | Faster for small-scale problems          | Potentially faster for large-scale problems |\n",
        "| JIT Compilation Speed | Can be slower due to symbolic simplifications | Often faster, especially for large problems |\n",
        "| Conversion Functions  | SXFunction (to convert to MX and vice versa) | MXFunction (to convert to SX and vice versa) |\n",
        "\n",
        "## When to use which? \n",
        "\n",
        "If you're dealing with large-scale operations that are largely matrix-based (like in many optimal control problems), MX might be the better choice due to its efficiency with large matrix operations. On the other hand, if you're working on problems with more element-wise operations, especially if they're smaller to moderate in scale, SX could be more appropriate.\n",
        "\n",
        "MX is usually a safer default for most optimization problems in CasADi, especially if you are unsure about the specifics of your problem structure.\n",
        "\n",
        "Some operations are not supported or are inefficient in one form and might require conversion to the other. Luckily, CasADi provides easy conversion functions (SXFunction and MXFunction) to switch between the two.\n"
      ]
    },
    {
      "attachments": {},
      "cell_type": "markdown",
      "metadata": {},
      "source": [
        "# Solving a Toy NLP\n",
        "\n",
        "## Problem Formulation \n",
        "\n",
        "Let's consider a problem, \n",
        "\n",
        "\\begin{aligned}\n",
        "& \\underset{x}{\\text{min}}& &f(x;p) = x_1^2 + x_2^2 + x_3^2 \\\\ \n",
        "& \\text{subject to :}& & x_1, x_2, x_3 \\geq 0\\\\\n",
        "& & & 6x_1 + 3x_2 + 2x_3 - p_1 = 0\\\\\n",
        "& & & p_2x_1 + x_2 - x_3 - 1 = 0\n",
        "\\end{aligned}"
      ]
    },
    {
      "attachments": {},
      "cell_type": "markdown",
      "metadata": {},
      "source": [
        "We'll start off by setting up the decision variables, parameters and the objective function;"
      ]
    },
    {
      "cell_type": "code",
      "execution_count": 22,
      "metadata": {},
      "outputs": [],
      "source": [
        "# Decision variables\n",
        "x = SX.sym(\"x\",3)\n",
        "\n",
        "# Parameters\n",
        "p = [5.00,1.00]\n",
        "\n",
        "# Objective function\n",
        "f = x[0]*x[0] + x[1]*x[1] + x[2]*x[2]"
      ]
    },
    {
      "attachments": {},
      "cell_type": "markdown",
      "metadata": {},
      "source": [
        "CasADi elements are stacked to give a column layout, therefore, vertcat is often used to create a columnar structure from individual symbolic expression of constraints, state formulation etc.  In this case, two symbolic equations can be concatenated vertically to get the constraints representation. "
      ]
    },
    {
      "cell_type": "code",
      "execution_count": 23,
      "metadata": {},
      "outputs": [],
      "source": [
        "# Concatenate nonlinear constraints\n",
        "g = vertcat(6*x[0] + 3*x[1] + 2*x[2] - p[0], \n",
        "            p[1]*x[0] + x[1] - x[2] -   1)\n"
      ]
    },
    {
      "cell_type": "code",
      "execution_count": 24,
      "metadata": {},
      "outputs": [],
      "source": [
        "# Nonlinear bounds\n",
        "lbg = [0.00, 0.00]\n",
        "ubg = [0.00, 0.00]\n",
        "\n",
        "# Input bounds for the optimization variables\n",
        "lbx = [0.00, 0.00, 0.00]\n",
        "ubx = [inf, inf, inf]"
      ]
    },
    {
      "cell_type": "code",
      "execution_count": 25,
      "metadata": {},
      "outputs": [],
      "source": [
        "# Initial guess for the decision variables\n",
        "x0  = [0.15, 0.15, 0.00]"
      ]
    },
    {
      "cell_type": "code",
      "execution_count": 27,
      "metadata": {},
      "outputs": [],
      "source": [
        "# Create NLP solver\n",
        "nlp = {'x': x, 'f': f, 'g': g}\n",
        "\n",
        "# Setting up options for the solver (log level, iterations count, Hessian properties etc.)\n",
        "opts = {\n",
        "    'ipopt': {'print_level': 0},\n",
        "    'print_time': False\n",
        "}\n",
        "\n",
        "solver = nlpsol(\"solver\", \"ipopt\", nlp, opts)"
      ]
    },
    {
      "cell_type": "code",
      "execution_count": 29,
      "metadata": {},
      "outputs": [],
      "source": [
        "# Create a dictionary for the NLP solver options\n",
        "arg = {\n",
        "    'x0' : x0,   # Initial condition\n",
        "    'lbx': lbx,  # Lower bound for x\n",
        "    'ubx': ubx,  # Upper bound for x\n",
        "    'lbg': lbg,  # Lower bound for g (constraints)\n",
        "    'ubg': ubg   # Upper bound for g (constraints)\n",
        "}\n",
        "\n",
        "# Solve the NLP\n",
        "sol = solver(**arg)\n"
      ]
    },
    {
      "cell_type": "code",
      "execution_count": 30,
      "metadata": {},
      "outputs": [
        {
          "name": "stdout",
          "output_type": "stream",
          "text": [
            "Optimal x: [[0.63265306]\n",
            " [0.38775511]\n",
            " [0.02040817]]\n",
            "Optimal objective: [[0.55102041]]\n",
            "Lagrange multipliers for g: [[-0.1632653 ]\n",
            " [-0.28571431]]\n",
            "Lagrange multipliers for x: [[-1.43694992e-09]\n",
            " [-2.34449877e-09]\n",
            " [-4.45467058e-08]]\n"
          ]
        }
      ],
      "source": [
        "# Print the results\n",
        "print(\"Optimal x:\", sol['x'].full())\n",
        "print(\"Optimal objective:\", sol['f'].full())\n",
        "print(\"Lagrange multipliers for g:\", sol['lam_g'].full())\n",
        "print(\"Lagrange multipliers for x:\", sol['lam_x'].full())"
      ]
    }
  ],
  "metadata": {
    "colab": {
      "authorship_tag": "ABX9TyP8sU+1t2OJgOPtV5Mf7VHA",
      "include_colab_link": true,
      "provenance": []
    },
    "kernelspec": {
      "display_name": "Python 3",
      "name": "python3"
    },
    "language_info": {
      "codemirror_mode": {
        "name": "ipython",
        "version": 3
      },
      "file_extension": ".py",
      "mimetype": "text/x-python",
      "name": "python",
      "nbconvert_exporter": "python",
      "pygments_lexer": "ipython3",
      "version": "3.10.12"
    }
  },
  "nbformat": 4,
  "nbformat_minor": 0
}
