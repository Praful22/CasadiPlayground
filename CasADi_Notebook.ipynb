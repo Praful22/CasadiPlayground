{
  "nbformat": 4,
  "nbformat_minor": 0,
  "metadata": {
    "colab": {
      "provenance": [],
      "authorship_tag": "ABX9TyPrUnAngPSJ+NeN2qtAc8Es",
      "include_colab_link": true
    },
    "kernelspec": {
      "name": "python3",
      "display_name": "Python 3"
    },
    "language_info": {
      "name": "python"
    }
  },
  "cells": [
    {
      "cell_type": "markdown",
      "metadata": {
        "id": "view-in-github",
        "colab_type": "text"
      },
      "source": [
        "<a href=\"https://colab.research.google.com/github/Praful22/CasadiPlayground/blob/main/CasADi_Notebook.ipynb\" target=\"_parent\"><img src=\"https://colab.research.google.com/assets/colab-badge.svg\" alt=\"Open In Colab\"/></a>"
      ]
    },
    {
      "cell_type": "markdown",
      "source": [
        "# CasADi Notebook: Example and Tutorials Developed to learn and work for Coordinated Control of Aerial Vehicle."
      ],
      "metadata": {
        "id": "cQOPtSp5lyUn"
      }
    },
    {
      "cell_type": "markdown",
      "source": [
        "CasADi is a software tool for numerical optimization focusing on optimal control problems.\n",
        "\n",
        "*   Creators: Joel Andersson, Joris Gillis, Moritz Diehl\n",
        "\n",
        "\n",
        "\n",
        "This document is a colloborative notebook in the form of bullet points, tutorials, and shareable-knowledge that Pratik Gyawali and Praful Sigdel noted during their work for Aerial Vehicle Coordinated Control."
      ],
      "metadata": {
        "id": "XucQewznlcdg"
      }
    },
    {
      "cell_type": "markdown",
      "source": [
        "After going throught this notebook, one should be able to formulate and manipulate expressions in CasADi’s symbolic framework, generate derivative information efficiently using algorithmic differentiation, to set up, solve and perform forward and adjoint sensitivity analysis for systems of ordinary differential equations (ODE) or differential-algebraic equations (DAE) as well as to formulate and solve nonlinear programs (NLP) problems and optimal control problems (OCP).[1]\n",
        "---\n",
        "1.   Programming Languages Availibility:\n",
        "*   Python (Best Documented) --> This is what we have chosen to work with.\n",
        "*   C++ (Limited Documentation)\n",
        "*   Matlab/Octave\n",
        "\n",
        "Par Performance among all three programming languages.\n",
        "\n",
        "2. What is CasADi and What it is not? [1]\n",
        "* Tool for Algorithmic Differentiation using syntax borrowed from Computer Algebra Systems (CAS).\n",
        "* Core functionalities of the Tool:\n",
        "  * Algorithmic Differentiation\n",
        "  * Support for Ordinary Differential Equations (ODE) / Differential-Algebraic Equations(DAE) integration\n",
        "  * Sensitivity Analysis\n",
        "  * Nonlinear programming\n",
        "  * Interfaces to other numerical tools.\n",
        "\n",
        "3. Usable only through the implementation or reimplementation of models in CasADi syntax.\n",
        "\n",
        "4. CasADi provides the user with a set of “building blocks” that can be used to implement general- purpose or specific-purpose OCP solvers efficiently with a modest programming effort. Not an \"optimal control problem solver\" that allows the user to enter an OCP and then gives the solution back.\n",
        "\n",
        "5. Installation Instructions: http://install.casadi.org/"
      ],
      "metadata": {
        "id": "Hj2j3y3R27bj"
      }
    },
    {
      "cell_type": "markdown",
      "source": [
        "# Symbolic Framework\n",
        "\n",
        "\n",
        "*   Self-contained symbolic framework that allows users to create symbolic experessions using everything-is-a-matrix syntax i.e. vectors are treated as n-by-1 matrices and scalars as 1-by-1 matrix.\n",
        "*   All matrices are sparse and use a **general sparse format - [compressed column storage (CCS)](https://en.wikipedia.org/wiki/Sparse_matrix#:~:text=Compressed%20sparse%20column%20(CSC%20or%20CCS))** - to store matrices.\n",
        "\n"
      ],
      "metadata": {
        "id": "KtBBiMaH3q9h"
      }
    },
    {
      "cell_type": "markdown",
      "source": [
        "Install Casadi!"
      ],
      "metadata": {
        "id": "udXc885RtONK"
      }
    },
    {
      "cell_type": "code",
      "source": [
        "pip install casadi"
      ],
      "metadata": {
        "colab": {
          "base_uri": "https://localhost:8080/"
        },
        "id": "oieZhFEADsRC",
        "outputId": "0fdbdf27-2d58-47ec-8d2d-4ab3d7cd475d"
      },
      "execution_count": null,
      "outputs": [
        {
          "output_type": "stream",
          "name": "stdout",
          "text": [
            "Collecting casadi\n",
            "  Downloading casadi-3.6.3-cp310-none-manylinux2014_x86_64.whl (67.5 MB)\n",
            "\u001b[2K     \u001b[90m━━━━━━━━━━━━━━━━━━━━━━━━━━━━━━━━━━━━━━━━\u001b[0m \u001b[32m67.5/67.5 MB\u001b[0m \u001b[31m13.3 MB/s\u001b[0m eta \u001b[36m0:00:00\u001b[0m\n",
            "\u001b[?25hRequirement already satisfied: numpy in /usr/local/lib/python3.10/dist-packages (from casadi) (1.23.5)\n",
            "Installing collected packages: casadi\n",
            "Successfully installed casadi-3.6.3\n"
          ]
        }
      ]
    },
    {
      "cell_type": "markdown",
      "source": [
        "The SX data type is used to represent matrices whose elements consist of symbolic expressions made up by a sequence of unary and binary operations. One can import the symbols into the workspace as follows:"
      ],
      "metadata": {
        "id": "ZG2qL0X2LKqX"
      }
    },
    {
      "cell_type": "code",
      "source": [
        "from casadi import *"
      ],
      "metadata": {
        "id": "76Ul1BJxK3hT"
      },
      "execution_count": null,
      "outputs": []
    },
    {
      "cell_type": "markdown",
      "source": [
        "Create a variable *x* using below syntax :"
      ],
      "metadata": {
        "id": "x2KuS7p6tD1F"
      }
    },
    {
      "cell_type": "code",
      "source": [
        "x = MX.sym(\"x\")\n",
        "x"
      ],
      "metadata": {
        "colab": {
          "base_uri": "https://localhost:8080/"
        },
        "id": "k5YEWvyxiylR",
        "outputId": "c168d89b-102c-409f-9813-7f65bdf99f83"
      },
      "execution_count": null,
      "outputs": [
        {
          "output_type": "execute_result",
          "data": {
            "text/plain": [
              "MX(x)"
            ]
          },
          "metadata": {},
          "execution_count": 4
        }
      ]
    },
    {
      "cell_type": "markdown",
      "source": [
        "This creates a 1-by-1 matrix, i.e. a scalar containing a symbolic primitive called x. This is just the display name, not the identifier. Multiple variables can have the same name, but still be different. The identifier is the return value. You can also create vector- or matrix-valued symbolic variables by supplying additional arguments to SX.sym:"
      ],
      "metadata": {
        "id": "fpTiJxfl3PAa"
      }
    },
    {
      "cell_type": "code",
      "source": [
        "x = SX.sym('y',3)\n",
        "Z = SX.sym('Z',5,2)\n",
        "print(x)\n",
        "print(Z)"
      ],
      "metadata": {
        "colab": {
          "base_uri": "https://localhost:8080/"
        },
        "id": "dTrjzDuL3e4H",
        "outputId": "9208c90d-0703-4acb-fe7d-e46b0c936012"
      },
      "execution_count": null,
      "outputs": [
        {
          "output_type": "stream",
          "name": "stdout",
          "text": [
            "[y_0, y_1, y_2]\n",
            "\n",
            "[[Z_0, Z_5], \n",
            " [Z_1, Z_6], \n",
            " [Z_2, Z_7], \n",
            " [Z_3, Z_8], \n",
            " [Z_4, Z_9]]\n"
          ]
        }
      ]
    },
    {
      "cell_type": "markdown",
      "source": [
        "which creates a 3-by-1 matrix, i.e. a vector, and a 5-by-2 matrix with symbolic primitives, respectively."
      ],
      "metadata": {
        "id": "AJmJhjcM_nmX"
      }
    },
    {
      "cell_type": "markdown",
      "source": [
        "SX.sym is a (static) function which returns an SX instance. When variables have been declared, expressions can now be formed in an intuitive way:"
      ],
      "metadata": {
        "id": "MJK8LbYu_x0d"
      }
    },
    {
      "cell_type": "code",
      "source": [
        "x = SX.sym('x') # Declaration\n",
        "f = x**3 + 10 # Expression\n",
        "f = sqrt(f)\n",
        "print(f)"
      ],
      "metadata": {
        "colab": {
          "base_uri": "https://localhost:8080/"
        },
        "id": "KrlSKSp8_zCU",
        "outputId": "7995c8d6-c985-4dda-d83b-095f55266e41"
      },
      "execution_count": null,
      "outputs": [
        {
          "output_type": "stream",
          "name": "stdout",
          "text": [
            "sqrt(((x*sq(x))+10))\n"
          ]
        }
      ]
    },
    {
      "cell_type": "markdown",
      "source": [
        "Create constant SX instances without any symbolics primitives as follows:"
      ],
      "metadata": {
        "id": "FsuEbmgdnBSp"
      }
    },
    {
      "cell_type": "code",
      "source": [
        "A1 = SX.zeros(3,3)\n",
        "A2 = SX(4,5)\n",
        "A3 = SX.eye(4)\n",
        "print(A1, A2, A3)"
      ],
      "metadata": {
        "colab": {
          "base_uri": "https://localhost:8080/"
        },
        "id": "zN7CStiYnKU3",
        "outputId": "be801d97-c534-4802-e577-6b9e9a7cf707"
      },
      "execution_count": null,
      "outputs": [
        {
          "output_type": "stream",
          "name": "stdout",
          "text": [
            "@1=0, \n",
            "[[@1, @1, @1], \n",
            " [@1, @1, @1], \n",
            " [@1, @1, @1]] \n",
            "[[00, 00, 00, 00, 00], \n",
            " [00, 00, 00, 00, 00], \n",
            " [00, 00, 00, 00, 00], \n",
            " [00, 00, 00, 00, 00]] @1=1, \n",
            "[[@1, 00, 00, 00], \n",
            " [00, @1, 00, 00], \n",
            " [00, 00, @1, 00], \n",
            " [00, 00, 00, @1]]\n"
          ]
        }
      ]
    },
    {
      "cell_type": "markdown",
      "source": [
        "The following list summarizes the most commonly used ways of constructing new SX expressions:\n",
        "*  SX.sym(name,n,m): Create an 𝑛-by-𝑚 symbolic primitive\n",
        "*  SX.zeros(n,m): Create an 𝑛-by-𝑚 dense matrix with all zeros\n",
        "*  SX(n,m): Create an 𝑛-by-𝑚 sparse matrix with all structural zeros\n",
        "*  SX.ones(n,m): Create an 𝑛-by-𝑚 dense matrix with all ones\n",
        "* SX.eye(n): Create an 𝑛-by-𝑛 diagonal matrix with ones on the diagonal and structural zeros elsewhere.\n",
        "* SX(scalar_type): Create a scalar (1-by-1 matrix) with value given by the argument. This method can be used explicitly, e.g. SX(9), or implicitly, e.g. 9 * SX.ones(2,2).\n",
        "* SX(matrix_type): Create a matrix given a numerical matrix given as a NumPy or SciPy matrix (in Python) or as a dense or sparse matrix (in MATLAB/Octave). In MATLAB/Octave e.g. SX([1,2,3,4]) for a row vector, SX([1;2;3;4]) for a column vector and SX([1,2;3,4]) for a 2-by-2 matrix. This method can be used explicitly or implicitly.\n",
        "* repmat(v,n,m): Repeat expression 𝑣 𝑛 times vertically and 𝑚 times horizontally. repmat(SX(3),2,1) will create a 2-by-1 matrix with all elements 3.\n",
        "* (Python only) SX(list): Create a column vector (𝑛-by-1 matrix) with the elements in the list, e.g. SX([1,2,3, 4]) (note the difference between Python lists and MATLAB/Octave horizontal concatenation, which both uses square bracket syntax)\n",
        "*(Python only) SX(list of list): Create a dense matrix with the elements in the lists, e.g. SX([[1,2],[3, 4]]) or a row vector (1-by-𝑛 matrix) using SX([[1,2,3,4]])."
      ],
      "metadata": {
        "id": "LkUu5v7-v1u-"
      }
    },
    {
      "cell_type": "markdown",
      "source": [
        "MX Symbolics:\n",
        "\n",
        "* More general matrix expression type MX than SX.\n",
        "* The MX type allows to build up expression consisting of a sequence of elementary operations.\n",
        "* Unlike SX, the elementary operations aren't limited to scalar unary and binary operations $(R → R$ or $R × R → R)$. The elemantary operations are general multiple sparse-matrix valued input and multiple sparse-matrix valued output. $R^{𝑛_1×𝑚_1} × . . .×R^{𝑛_𝑁×𝑚_𝑁} → R^{𝑝_1×𝑞_1} ×...×R^{𝑝_𝑀×𝑞_𝑀}$\n",
        "* The syntax of MX mirrors that of SX:\n",
        "\n"
      ],
      "metadata": {
        "id": "l_M-591Owz1v"
      }
    },
    {
      "cell_type": "code",
      "source": [
        "x = MX.sym('x',2,2)\n",
        "y = MX.sym('y')\n",
        "f = 3*x + y\n",
        "print(f)\n",
        "print(f.shape)"
      ],
      "metadata": {
        "colab": {
          "base_uri": "https://localhost:8080/"
        },
        "id": "ukuXV-ct1d34",
        "outputId": "f7483b00-e753-4a11-b923-990983c628c7"
      },
      "execution_count": null,
      "outputs": [
        {
          "output_type": "stream",
          "name": "stdout",
          "text": [
            "((3*x)+y)\n",
            "(2, 2)\n"
          ]
        }
      ]
    },
    {
      "cell_type": "markdown",
      "source": [
        "\n",
        "\n",
        "*   Functionality of setting and getting elements in MX is similar to Python.\n"
      ],
      "metadata": {
        "id": "EnxjGWsn1ojN"
      }
    },
    {
      "cell_type": "markdown",
      "source": [
        "## Mixing SX and MX\n",
        "\n",
        "* Cannot multiply SX object with and MX object, or perform any other operation to mix the two in the same expression graph.\n",
        "* Can include calls to Functions defined by the SX expressions in MX graph.\n",
        "* Mixing SX and MX is often a good idea since functions defined by SX expressions have a much lower overhead per operation making it much faster for operations that are naturally written as a sequence of scalar operations.\n",
        "* The SX expressions are thus intended to be used for low level operations (for example DAE formulations), whereas the MX expressions act as a glue and enables the formulation of e.g. the constraint function of an NLP.\n",
        "\n",
        "\n"
      ],
      "metadata": {
        "id": "bJZAbuip2J5S"
      }
    },
    {
      "cell_type": "markdown",
      "source": [
        "Now that a brief fundamental of CasADi has been introduced. Let's dive into formulation of as many examples and tutorials as possible until the muscles of our memory are grown enough to actually formulate and solve complex problems relating to Coordinated Control of Aerial Vehicles."
      ],
      "metadata": {
        "id": "6Hht3Yca4eJl"
      }
    },
    {
      "cell_type": "markdown",
      "source": [
        "# Classic Double Pendulum On a Cart Problem\n",
        "![Screenshot 2023-09-16 at 12.13.59 PM.png](data:image/png;base64,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)\n"
      ],
      "metadata": {
        "id": "91fbj1H75CPq"
      }
    },
    {
      "cell_type": "markdown",
      "source": [
        "The position of the cart one is:\n",
        "\n",
        "\\begin{aligned}\n",
        "& x_{0} = θ_{0}\\\\\n",
        "& y_{0} = 0\n",
        "\\end{aligned}\n",
        "\n",
        "The position of the midpoint of the first pendulum link is given by:\n",
        "\n",
        "\\begin{aligned}\n",
        "& x_{1} = θ_{0} + l_{1} sinθ_{1} \\\\\n",
        "& y_{1} = l_{1} cosθ_{1}\n",
        "\\end{aligned}\n",
        "\n",
        "The position of the midpoint of the second pendulum link is given by:\n",
        "\n",
        "\\begin{aligned}\n",
        "& x_{2} = θ_{0} + L_{1}sinθ_{1} + l_{2}sinθ_{2} \\\\\n",
        "& y_{2} = L_{1}cosθ_{1} + l_{2}cosθ_{2}\n",
        "\\end{aligned}\n",
        "\n",
        "Lagrangian Formulation of Double Pendulum on a Cart problem:\n",
        "\n",
        "\n",
        "\\begin{aligned} \\frac{d}{d t}\\left(\\frac{\\partial L}{\\partial \\dot{\\boldsymbol{\\theta}}}\\right)-\\frac{\\partial L}{\\partial \\boldsymbol{\\theta}}=\\mathbf{q}\n",
        "\\end{aligned}\n",
        "\n",
        "Here **L** is the lagrangian, **q** is a vector of generalized forces which act in direction of each component in $\\theta$, these forces are not included in the kinetic and potential energies of the cart and each pendulum link.\n",
        "\n",
        "\n",
        "Here,\n",
        "\n",
        "\n",
        "\\begin{aligned}\n",
        "\\mathbf{\\theta} =\n",
        "\\begin{pmatrix}\n",
        "\\theta_{0} \\\\\n",
        "\\theta_{1} \\\\\n",
        "\\theta_{2}\n",
        "\\end{pmatrix}\n",
        "\\end{aligned}\n",
        "\n",
        "\n",
        "The control force $u(t)$ is one of these forces which acts horizontally only on the cart and doesn't affect angles directly.\n",
        "Ignoring other external forces, **q** is given as\n",
        "\n",
        "\\begin{aligned}\n",
        "\\mathbf{q} =\n",
        "\\begin{pmatrix}\n",
        "u(t) \\\\\n",
        "0\\\\\n",
        "0\n",
        "\\end{pmatrix} =\n",
        "\\begin{pmatrix}\n",
        "1 \\\\\n",
        "0\\\\\n",
        "0\n",
        "\\end{pmatrix} u(t) = \\mathbf{H} u(t)\n",
        "\\end{aligned}\n",
        "\n",
        "\\begin{aligned}\n",
        "& \\frac{d}{d t}\\left(\\frac{\\partial L}{\\partial \\dot{\\theta}_0}\\right)-\\frac{\\partial L}{\\partial \\theta_0}=u(t) \\\\\n",
        "& \\frac{d}{d t}\\left(\\frac{\\partial L}{\\partial \\dot{\\theta}_1}\\right)-\\frac{\\partial L}{\\partial \\theta_1}=0 \\\\\n",
        "& \\frac{d}{d t}\\left(\\frac{\\partial L}{\\partial \\dot{\\theta}_2}\\right)-\\frac{\\partial L}{\\partial \\theta_2}=0\n",
        "\\end{aligned}\n",
        "\n",
        "Lagrange Equations Steps:\n",
        "\n",
        "❖ T : Total Kinetic Energy of the System :\n",
        "\n",
        "\\begin{aligned}\n",
        "& T = E_{kin} = E_{kin}^{(0)} + E_{kin}^{(1)} + E_{kin}^{(2)} \\\\\n",
        "\\end{aligned}\n",
        "\n",
        "$E_{kin}^{(0)}$ = Kinetic energy of the cart\n",
        "\n",
        "$E_{kin}^{(1)}$ = Kinetic energy of the first pendulum\n",
        "\n",
        "$E_{kin}^{(2)}$ = Kinetic energy of the second pendulum\n",
        "\n",
        "\n",
        "\n",
        "❖ V : Total Potential Energy of the System :\n",
        "\n",
        "\\begin{aligned}& V = E_{pot} = E_{pot}^{(0)} + E_{pot}^{(1)} + E_{pot}^{(2)}\\end{aligned}\n",
        "\n",
        "$ E_{pot}^{(0)} =$ Potential Energy of the cart\n",
        "\n",
        "$ E_{pot}^{(1)} =$ Potential Energy of the first pendulum\n",
        "\n",
        "$ E_{pot}^{(2)} =$ Potential Energy of the second pendulum\n",
        "\n",
        "❖ Lagrange's Equations:\n",
        "\\begin{aligned}& L = T - V \\end{aligned}\n",
        "\n",
        "$$\n",
        "\\begin{aligned}\n",
        "E_{k i n}= & E_{k i n}^{(0)}+E_{k i n}^{(1)}+E_{k i n}^{(2)} \\\\\n",
        "= & \\frac{1}{2} m_0 \\dot{\\theta}_0^2+\\frac{1}{2} m_1 \\dot{\\theta}_0^2+\\frac{1}{2}\\left(m_1 l_1^2+I_1\\right) \\dot{\\theta}_1^2+m_1 l_1 \\dot{\\theta}_0 \\dot{\\theta}_1 \\cos \\theta_1 \\\\\n",
        "& +\\frac{1}{2} m_2 \\dot{\\theta}_0^2+\\frac{1}{2} m_2 L_1^2 \\dot{\\theta}_1^2+\\frac{1}{2}\\left(m_2 l_2^2+I_2\\right) \\dot{\\theta}_2^2+m_2 L_1 \\dot{\\theta}_0 \\dot{\\theta}_1 \\cos \\theta_1 \\\\\n",
        "& +m_2 l_2 \\dot{\\theta}_0 \\dot{\\theta}_2 \\cos \\theta_2+m_2 L_1 l_2 \\dot{\\theta}_1 \\dot{\\theta}_2 \\cos \\left(\\theta_1-\\theta_2\\right) \\\\\n",
        "= & \\frac{1}{2}\\left(m_0+m_1+m_2\\right) \\dot{\\theta}_0^2+\\frac{1}{2}\\left(m_1 l_1^2+m_2 L_1^2+I_1\\right) \\dot{\\theta}_1^2+\\frac{1}{2}\\left(m_2 l_2^2+I_2\\right) \\dot{\\theta}_1^2 \\\\\n",
        "& +\\left(m_1 l_1+m_2 L_1\\right) \\dot{\\theta}_0 \\dot{\\theta}_1 \\cos \\theta_1+m_2 l_2 \\dot{\\theta}_0 \\dot{\\theta}_2 \\cos \\theta_2+m_2 L_1 l_2 \\dot{\\theta}_1 \\dot{\\theta}_2 \\cos \\left(\\theta_1-\\theta_2\\right)\n",
        "\\end{aligned}\n",
        "$$\n",
        "Also\n",
        "$$\n",
        "\\begin{aligned}\n",
        "E_{\\text {pot }} & =E_{\\text {pot }}^{(0)}+E_{\\text {pot }}^{(1)}+E_{\\text {pot }}^{(2)} \\\\\n",
        "& =0+m_1 g l_1 \\cos \\theta_1+m_1 g\\left(L_1 \\cos \\theta_1+l_2 \\cos \\theta_2\\right) \\\\\n",
        "& =g\\left(m_1 l_1+m_2 L_1\\right) \\cos \\theta_1+m_2 g l_2 \\cos \\theta_2\n",
        "\\end{aligned}\n",
        "$$\n",
        "The Lagrangian is\n",
        "$$\n",
        "\\begin{aligned}\n",
        "L= & E_{k i n}-E_{\\text {pot }} \\\\\n",
        "= & \\frac{1}{2}\\left(m_0+m_1+m_2\\right) \\dot{\\theta}_0^2+\\frac{1}{2}\\left(m_1 l_1^2+m_2 L_1^2+I_1\\right) \\dot{\\theta}_1^2+\\frac{1}{2}\\left(m_2 l_2^2+I_2\\right) \\dot{\\theta}_2^2 \\\\\n",
        "& +\\left(m_1 l_1+m_2 L_1\\right) \\cos \\theta_1 \\dot{\\theta}_0 \\dot{\\theta}_1+m_2 l_2 \\cos \\theta_2 \\dot{\\theta}_0 \\dot{\\theta}_2+m_2 L_1 l_2 \\cos \\left(\\theta_1-\\theta_2\\right) \\dot{\\theta}_1 \\dot{\\theta}_2 \\\\\n",
        "& -g\\left(m_1 l_1+m_2 L_1\\right) \\cos \\theta_1-m_2 g l_2 \\cos \\theta_2\n",
        "\\end{aligned}\n",
        "$$\n",
        "Now that the Lagrangian is known, explicitly calculating the partial, and full derivatives for the system of equations we get the following final form:\n",
        "\\begin{aligned}\n",
        "&\\left(m_0+m_1+m_2\\right) \\ddot{\\theta}_0+\\left(m_1 l_1+m_2 L_1\\right) \\cos \\theta_1 \\ddot{\\theta}_1+m_2 l_2 \\cos \\theta_2 \\ddot{\\theta}_2 -\\left(m_1 l_1+m_2 L_1\\right) \\sin \\theta_1 \\dot{\\theta}_1^2-m_2 l_2 \\sin \\theta_2 \\dot{\\theta}_2^2=u(t).....(1) \\\\\n",
        "&\\left(m_1 l_1^2+m_2 L_1^2+I_1\\right) \\ddot{\\theta}_1+\\left(m_1 l_1+m_2 L_1\\right) \\cos \\theta_1 \\ddot{\\theta}_0 + m_2 L_1 l_2 \\cos \\left(\\theta_1-\\theta_2\\right) \\ddot{\\theta}_2+m_2 L_1 l_2 \\sin \\left(\\theta_1-\\theta_2\\right) \\dot{\\theta}_2^2 - g\\left(m_1 l_1+m_2 L_1\\right) \\sin \\theta_1=0 .....(2)\\\\\n",
        "& m_2 l_2 \\cos \\theta_2 \\ddot{\\theta}_0+m_2 L_1 l_2 \\cos \\left(\\theta_1-\\theta_2\\right) \\ddot{\\theta}_1+\\left(m_2 l_2^2+I_2\\right) \\ddot{\\theta}_2 - m_2 L_1 l_2 \\sin \\left(\\theta_1-\\theta_2\\right) \\dot{\\theta}_1^2-m_2 g l_2 \\sin \\theta_2=0 ....(3)\n",
        "\\end{aligned}\n",
        "\n",
        "Equations (1,2,3) can be written as nonlinear second-order system of form:\n",
        "\n",
        "$$\n",
        "\\mathbf{D}(\\boldsymbol{\\theta}) \\ddot{\\boldsymbol{\\theta}}+\\mathbf{C}(\\boldsymbol{\\theta}, \\dot{\\boldsymbol{\\theta}}) \\dot{\\boldsymbol{\\theta}}+\\mathbf{G}(\\boldsymbol{\\theta})=\\mathbf{H} u ....(4)\n",
        "$$\n",
        "where\n",
        "$$\n",
        "\\begin{aligned}\n",
        "\\mathbf{D}(\\boldsymbol{\\theta}) & =\\left[\\begin{array}{ccc}\n",
        "m_0+m_1+m_2 & \\left(m_1 l_1+m_2 L_1\\right) \\cos \\theta_1 & m_2 l_2 \\cos \\theta_2 \\\\\n",
        "\\left(m_1 l_1+m_2 L_1\\right) \\cos \\theta_1 & m_1 l_1^2+m_2 L_1^2+I_1 & m_2 L_1 l_2 \\cos \\left(\\theta_1-\\theta_2\\right) \\\\\n",
        "m_2 l_2 \\cos \\theta_2 & m_2 L_1 l_2 \\cos \\left(\\theta_1-\\theta_2\\right) & m_2 l_2^2+I_2\n",
        "\\end{array}\\right] \\\\\n",
        "\\mathbf{C}(\\boldsymbol{\\theta}, \\dot{\\boldsymbol{\\theta}}) & =\\left[\\begin{array}{ccc}\n",
        "0 & -\\left(m_1 l_1+m_2 L_1\\right) \\sin \\theta_1 \\dot{\\theta}_1 & -m_2 l_2 \\sin \\theta_2 \\dot{\\theta}_2 \\\\\n",
        "0 & 0 & m_2 L_1 l_2 \\sin \\left(\\theta_1-\\theta_2\\right) \\dot{\\theta}_2 \\\\\n",
        "0 & -m_2 L_1 l_2 \\sin \\left(\\theta_1-\\theta_2\\right) \\dot{\\theta}_1 & 0\n",
        "\\end{array}\\right] \\\\\n",
        "\\mathbf{G}(\\boldsymbol{\\theta}) & =\\left[\\begin{array}{c}\n",
        "0 \\\\\n",
        "-\\left(m_1 l_1+m_2 L_1\\right) g \\sin \\theta_1 \\\\\n",
        "-m_2 g l_2 \\sin \\theta_2\n",
        "\\end{array}\\right] \\\\\n",
        "\\mathbf{H} & =\\left[\\begin{array}{l}\n",
        "1 \\\\\n",
        "0 \\\\\n",
        "0\n",
        "\\end{array}\\right]\n",
        "\\end{aligned}\n",
        "$$\n",
        "\n",
        "Equation (4) can be rewritten with a few simplication and trick as follows:\n",
        "$$\n",
        "\\ddot{\\boldsymbol{\\theta}}=-\\mathbf{D}^{-1} \\mathbf{C} \\dot{\\boldsymbol{\\theta}}-\\mathbf{D}^{-1} \\mathbf{G}+\\mathbf{D}^{-1} \\mathbf{H} u\n",
        "$$\n",
        "which is\n",
        "$$\n",
        "\\begin{aligned}\n",
        "& {\\left[\\begin{array}{ll}\n",
        "0 & 0 \\\\\n",
        "0 & I\n",
        "\\end{array}\\right]\\left[\\begin{array}{l}\n",
        "\\dot{\\boldsymbol{\\theta}} \\\\\n",
        "\\ddot{\\boldsymbol{\\theta}}\n",
        "\\end{array}\\right]=\\left[\\begin{array}{cc}\n",
        "0 & 0 \\\\\n",
        "0 & -\\mathbf{D}^{-1} \\mathbf{C}\n",
        "\\end{array}\\right]\\left[\\begin{array}{l}\n",
        "\\boldsymbol{\\theta} \\\\\n",
        "\\dot{\\boldsymbol{\\theta}}\n",
        "\\end{array}\\right]+\\left[\\begin{array}{c}\n",
        "0 \\\\\n",
        "-\\mathbf{D}^{-1} \\mathbf{G}\n",
        "\\end{array}\\right]+\\left[\\begin{array}{c}\n",
        "0 \\\\\n",
        "\\mathbf{D}^{-1} \\mathbf{H}\n",
        "\\end{array}\\right] u } \\\\\n",
        "& {\\left[\\begin{array}{ll}\n",
        "I & 0 \\\\\n",
        "0 & I\n",
        "\\end{array}\\right]\\left[\\begin{array}{l}\n",
        "\\dot{\\boldsymbol{\\theta}} \\\\\n",
        "\\ddot{\\boldsymbol{\\theta}}\n",
        "\\end{array}\\right]-\\left[\\begin{array}{ll}\n",
        "I & 0 \\\\\n",
        "0 & 0\n",
        "\\end{array}\\right]\\left[\\begin{array}{l}\n",
        "\\dot{\\boldsymbol{\\theta}} \\\\\n",
        "\\ddot{\\boldsymbol{\\theta}}\n",
        "\\end{array}\\right]=\\left[\\begin{array}{cc}\n",
        "0 & 0 \\\\\n",
        "0 & -\\mathbf{D}^{-1} \\mathbf{C}\n",
        "\\end{array}\\right]\\left[\\begin{array}{l}\n",
        "\\boldsymbol{\\theta} \\\\\n",
        "\\dot{\\boldsymbol{\\theta}}\n",
        "\\end{array}\\right]+\\left[\\begin{array}{c}\n",
        "0 \\\\\n",
        "-\\mathbf{D}^{-1} \\mathbf{G}\n",
        "\\end{array}\\right]+\\left[\\begin{array}{c}\n",
        "0 \\\\\n",
        "\\mathbf{D}^{-1} \\mathbf{H}\n",
        "\\end{array}\\right] u } \\\\\n",
        "& {\\left[\\begin{array}{ll}\n",
        "I & 0 \\\\\n",
        "0 & I\n",
        "\\end{array}\\right]\\left[\\begin{array}{l}\n",
        "\\dot{\\boldsymbol{\\theta}} \\\\\n",
        "\\ddot{\\boldsymbol{\\theta}}\n",
        "\\end{array}\\right]-\\left[\\begin{array}{ll}\n",
        "0 & I \\\\\n",
        "0 & 0\n",
        "\\end{array}\\right]\\left[\\begin{array}{l}\n",
        "\\boldsymbol{\\theta} \\\\\n",
        "\\dot{\\boldsymbol{\\theta}}\n",
        "\\end{array}\\right]=\\left[\\begin{array}{cc}\n",
        "0 & 0 \\\\\n",
        "0 & -\\mathbf{D}^{-1} \\mathbf{C}\n",
        "\\end{array}\\right]\\left[\\begin{array}{l}\n",
        "\\boldsymbol{\\theta} \\\\\n",
        "\\dot{\\boldsymbol{\\theta}}\n",
        "\\end{array}\\right]+\\left[\\begin{array}{c}\n",
        "0 \\\\\n",
        "-\\mathbf{D}^{-1} \\mathbf{G}\n",
        "\\end{array}\\right]+\\left[\\begin{array}{c}\n",
        "0 \\\\\n",
        "\\mathbf{D}^{-1} \\mathbf{H}\n",
        "\\end{array}\\right] u } \\\\\n",
        "& {\\left[\\begin{array}{ll}\n",
        "I & 0 \\\\\n",
        "0 & I\n",
        "\\end{array}\\right]\\left[\\begin{array}{l}\n",
        "\\dot{\\boldsymbol{\\theta}} \\\\\n",
        "\\ddot{\\boldsymbol{\\theta}}\n",
        "\\end{array}\\right]=\\left[\\begin{array}{cc}\n",
        "0 & I \\\\\n",
        "0 & -\\mathbf{D}^{-1} \\mathbf{C}\n",
        "\\end{array}\\right]\\left[\\begin{array}{l}\n",
        "\\boldsymbol{\\theta} \\\\\n",
        "\\dot{\\boldsymbol{\\theta}}\n",
        "\\end{array}\\right]+\\left[\\begin{array}{c}\n",
        "0 \\\\\n",
        "-\\mathbf{D}^{-1} \\mathbf{G}\n",
        "\\end{array}\\right]+\\left[\\begin{array}{c}\n",
        "0 \\\\\n",
        "\\mathbf{D}^{-1} \\mathbf{H}\n",
        "\\end{array}\\right] u }\n",
        "\\end{aligned}\n",
        "$$\n",
        "Let $\\mathbf{x}=\\left[\\begin{array}{c}\\boldsymbol{\\theta} \\\\ \\dot{\\boldsymbol{\\theta}}\\end{array}\\right], \\quad \\dot{\\mathbf{x}}=\\left[\\begin{array}{l}\\dot{\\boldsymbol{\\theta}} \\\\ \\ddot{\\boldsymbol{\\theta}}\\end{array}\\right]$\n",
        "$$\n",
        "\\begin{aligned}\n",
        "{\\left[\\begin{array}{ll}\n",
        "I & 0 \\\\\n",
        "0 & I\n",
        "\\end{array}\\right] \\dot{\\mathbf{x}} } & =\\left[\\begin{array}{cc}\n",
        "0 & I \\\\\n",
        "0 & -\\mathbf{D}^{-1} \\mathbf{C}\n",
        "\\end{array}\\right] \\mathbf{x}+\\left[\\begin{array}{c}\n",
        "0 \\\\\n",
        "-\\mathbf{D}^{-1} \\mathbf{G}\n",
        "\\end{array}\\right]+\\left[\\begin{array}{c}\n",
        "0 \\\\\n",
        "\\mathbf{D}^{-1} \\mathbf{H}\n",
        "\\end{array}\\right] u \\\\\n",
        "\\dot{\\mathbf{x}} & =\\left[\\begin{array}{cc}\n",
        "0 & I \\\\\n",
        "0 & -\\mathbf{D}^{-1} \\mathbf{C}\n",
        "\\end{array}\\right] \\mathbf{x}+\\left[\\begin{array}{c}\n",
        "0 \\\\\n",
        "-\\mathbf{D}^{-1} \\mathbf{G}\n",
        "\\end{array}\\right]+\\left[\\begin{array}{c}\n",
        "0 \\\\\n",
        "\\mathbf{D}^{-1} \\mathbf{H}\n",
        "\\end{array}\\right] u\n",
        "\\end{aligned}\n",
        "$$\n",
        "gives the first-order system\n",
        "$$\n",
        "\\dot{\\mathbf{x}}=\\mathbf{A}(\\mathbf{x}) \\mathbf{x}+\\mathbf{B}(\\mathbf{x}) u+\\mathbf{L}(\\mathbf{x})\n",
        "$$\n",
        "where\n",
        "$$\n",
        "\\mathbf{A}(\\mathbf{x})=\\left[\\begin{array}{cc}\n",
        "0 & I \\\\\n",
        "0 & -\\mathbf{D}^{-1} \\mathbf{C}\n",
        "\\end{array}\\right], \\quad \\mathbf{B}(\\mathbf{x})=\\left[\\begin{array}{c}\n",
        "0 \\\\\n",
        "\\mathbf{D}^{-1} \\mathbf{H}\n",
        "\\end{array}\\right], \\quad \\mathbf{L}(\\mathbf{x})=\\left[\\begin{array}{c}\n",
        "0 \\\\\n",
        "-\\mathbf{D}^{-1} \\mathbf{G}\n",
        "\\end{array}\\right]\n",
        "$$\n"
      ],
      "metadata": {
        "id": "CxlSB1SkkvJV"
      }
    },
    {
      "cell_type": "code",
      "source": [],
      "metadata": {
        "id": "QGhWLm5IllBm"
      },
      "execution_count": null,
      "outputs": []
    },
    {
      "cell_type": "markdown",
      "source": [],
      "metadata": {
        "id": "J0A9N1H7D4E8"
      }
    }
  ]
}